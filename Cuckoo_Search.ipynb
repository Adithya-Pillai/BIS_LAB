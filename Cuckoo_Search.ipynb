{
  "nbformat": 4,
  "nbformat_minor": 0,
  "metadata": {
    "colab": {
      "provenance": []
    },
    "kernelspec": {
      "name": "python3",
      "display_name": "Python 3"
    },
    "language_info": {
      "name": "python"
    }
  },
  "cells": [
    {
      "cell_type": "code",
      "execution_count": 3,
      "metadata": {
        "colab": {
          "base_uri": "https://localhost:8080/"
        },
        "id": "PDQuehI-_2Dg",
        "outputId": "71720f35-f809-4a5a-d498-ca797b2363b4"
      },
      "outputs": [
        {
          "output_type": "stream",
          "name": "stdout",
          "text": [
            "Iteration 1: Best Distance: 271\n",
            "Iteration 2: Best Distance: 271\n",
            "Iteration 3: Best Distance: 266\n",
            "Iteration 4: Best Distance: 266\n",
            "Iteration 5: Best Distance: 266\n",
            "Iteration 6: Best Distance: 266\n",
            "Iteration 7: Best Distance: 266\n",
            "Iteration 8: Best Distance: 214\n",
            "Iteration 9: Best Distance: 214\n",
            "Iteration 10: Best Distance: 214\n",
            "Best route found: [6, 1, 9, 0, 7, 4, 5, 3, 8, 2] with distance: 214\n",
            "Adithya Pillai (1BM22CS013)\n"
          ]
        }
      ],
      "source": [
        "import numpy as np\n",
        "import math\n",
        "import random\n",
        "\n",
        "def fitness_function(solution):\n",
        "    distance = 0\n",
        "    for i in range(len(solution) - 1):\n",
        "        distance += distance_matrix[solution[i]][solution[i + 1]]\n",
        "    distance += distance_matrix[solution[-1]][solution[0]]\n",
        "    return distance\n",
        "\n",
        "def initialize_nests(num_nests, n_cities):\n",
        "    nests = [random.sample(range(n_cities), n_cities) for _ in range(num_nests)]\n",
        "    return nests\n",
        "\n",
        "def levy_flight(Lambda=1.5):\n",
        "    sigma_u = np.power((math.gamma(1 + Lambda) * math.sin(np.pi * Lambda / 2) /\n",
        "                        (math.gamma((1 + Lambda) / 2) * Lambda * 2**((Lambda - 1) / 2))), 1 / Lambda)\n",
        "    u = np.random.normal(0, sigma_u, 1)\n",
        "    v = np.random.normal(0, 1, 1)\n",
        "    step = u / np.power(np.abs(v), 1 / Lambda)\n",
        "    return step[0]\n",
        "\n",
        "def generate_new_solution(current_solution, best_solution, step_size):\n",
        "    new_solution = current_solution[:]\n",
        "    idx1, idx2 = random.sample(range(len(new_solution)), 2)\n",
        "    new_solution[idx1], new_solution[idx2] = new_solution[idx2], new_solution[idx1]\n",
        "    return new_solution\n",
        "\n",
        "def cuckoo_search(num_nests, num_iterations, step_size=0.1):\n",
        "    nests = initialize_nests(num_nests, n_cities)\n",
        "    fitness_values = [fitness_function(nest) for nest in nests]\n",
        "    best_index = np.argmin(fitness_values)\n",
        "    best_nest = nests[best_index]\n",
        "    best_fitness = fitness_values[best_index]\n",
        "    for iteration in range(num_iterations):\n",
        "        new_nests = []\n",
        "        for nest in nests:\n",
        "            new_solution = generate_new_solution(nest, best_nest, step_size)\n",
        "            new_nests.append(new_solution)\n",
        "        new_fitness_values = [fitness_function(nest) for nest in new_nests]\n",
        "        for i in range(num_nests):\n",
        "            if new_fitness_values[i] < fitness_values[i]:\n",
        "                nests[i] = new_nests[i]\n",
        "                fitness_values[i] = new_fitness_values[i]\n",
        "        current_best_index = np.argmin(fitness_values)\n",
        "        if fitness_values[current_best_index] < best_fitness:\n",
        "            best_nest = nests[current_best_index]\n",
        "            best_fitness = fitness_values[current_best_index]\n",
        "        print(f\"Iteration {iteration + 1}: Best Distance: {best_fitness}\")\n",
        "    return best_nest, best_fitness\n",
        "\n",
        "def create_distance_matrix(n_cities):\n",
        "    np.random.seed(0)\n",
        "    matrix = np.random.randint(1, 100, size=(n_cities, n_cities))\n",
        "    np.fill_diagonal(matrix, 0)\n",
        "    return matrix\n",
        "\n",
        "n_cities = 10\n",
        "num_nests = 50\n",
        "num_iterations = 10\n",
        "step_size = 0.1\n",
        "distance_matrix = create_distance_matrix(n_cities)\n",
        "\n",
        "best_solution, best_fitness = cuckoo_search(num_nests, num_iterations, step_size)\n",
        "\n",
        "print(f\"Best route found: {best_solution} with distance: {best_fitness}\")\n",
        "print(\"Adithya Pillai (1BM22CS013)\")\n"
      ]
    }
  ]
}