{
  "nbformat": 4,
  "nbformat_minor": 0,
  "metadata": {
    "colab": {
      "provenance": []
    },
    "kernelspec": {
      "name": "python3",
      "display_name": "Python 3"
    },
    "language_info": {
      "name": "python"
    }
  },
  "cells": [
    {
      "cell_type": "code",
      "execution_count": 6,
      "metadata": {
        "colab": {
          "base_uri": "https://localhost:8080/"
        },
        "id": "4r4ykYhgNxxz",
        "outputId": "39c86b45-b4d1-46e1-d69b-cb950d805a2d"
      },
      "outputs": [
        {
          "output_type": "stream",
          "name": "stdout",
          "text": [
            "Iteration 1: Best Fitness = 0.08692889326594042\n",
            "Iteration 2: Best Fitness = 0.009305705828754606\n",
            "Iteration 3: Best Fitness = 0.009305705828754606\n",
            "Iteration 4: Best Fitness = 0.009305705828754606\n",
            "Iteration 5: Best Fitness = 0.009305705828754606\n",
            "Iteration 6: Best Fitness = 0.009305705828754606\n",
            "Iteration 7: Best Fitness = 0.009305705828754606\n",
            "Iteration 8: Best Fitness = 0.009305705828754606\n",
            "Iteration 9: Best Fitness = 0.009305705828754606\n",
            "Iteration 10: Best Fitness = 0.009305705828754606\n",
            "Best Solution Found: [ 0.07868287 -0.05580961]\n",
            "Best Fitness Value: 0.009305705828754606\n",
            "Adithya Pillai (1BM22CS013)\n"
          ]
        }
      ],
      "source": [
        "import numpy as np\n",
        "import random\n",
        "\n",
        "def objective_function(x):\n",
        "    return np.sum(x ** 2)\n",
        "\n",
        "def initialize_population(grid_size, solution_space_dim):\n",
        "    population = np.random.uniform(-5.12, 5.12, (grid_size, grid_size, solution_space_dim))\n",
        "    return population\n",
        "\n",
        "def evaluate_fitness(population):\n",
        "    fitness_grid = np.zeros(population.shape[:-1])\n",
        "    for i in range(population.shape[0]):\n",
        "        for j in range(population.shape[1]):\n",
        "            fitness_grid[i, j] = objective_function(population[i, j])\n",
        "    return fitness_grid\n",
        "\n",
        "def update_cell(population, fitness_grid, i, j, neighborhood_size=1):\n",
        "    neighbors = []\n",
        "    for di in range(-neighborhood_size, neighborhood_size + 1):\n",
        "        for dj in range(-neighborhood_size, neighborhood_size + 1):\n",
        "            ni, nj = i + di, j + dj\n",
        "            if 0 <= ni < population.shape[0] and 0 <= nj < population.shape[1]:\n",
        "                neighbors.append((ni, nj))\n",
        "    avg_position = np.zeros(population.shape[2])\n",
        "    for ni, nj in neighbors:\n",
        "        avg_position += population[ni, nj]\n",
        "    avg_position /= len(neighbors)\n",
        "    population[i, j] = avg_position + 0.01 * np.random.randn(*avg_position.shape)\n",
        "\n",
        "def parallel_cellular_algorithm(grid_size, solution_space_dim, max_iterations=1000):\n",
        "    population = initialize_population(grid_size, solution_space_dim)\n",
        "    fitness_grid = evaluate_fitness(population)\n",
        "\n",
        "    best_solution = None\n",
        "    best_fitness = float('inf')\n",
        "\n",
        "    for iteration in range(max_iterations):\n",
        "        new_population = population.copy()\n",
        "\n",
        "        for i in range(population.shape[0]):\n",
        "            for j in range(population.shape[1]):\n",
        "                update_cell(new_population, fitness_grid, i, j)\n",
        "\n",
        "        fitness_grid = evaluate_fitness(new_population)\n",
        "\n",
        "        min_fitness_idx = np.unravel_index(np.argmin(fitness_grid), fitness_grid.shape)\n",
        "        min_fitness_value = fitness_grid[min_fitness_idx]\n",
        "\n",
        "        if min_fitness_value < best_fitness:\n",
        "            best_fitness = min_fitness_value\n",
        "            best_solution = new_population[min_fitness_idx]\n",
        "\n",
        "        population = new_population\n",
        "\n",
        "        print(f\"Iteration {iteration + 1}: Best Fitness = {best_fitness}\")\n",
        "\n",
        "    return best_solution, best_fitness\n",
        "\n",
        "grid_size = 10\n",
        "solution_space_dim = 2\n",
        "max_iterations = 10\n",
        "\n",
        "best_solution, best_fitness = parallel_cellular_algorithm(grid_size, solution_space_dim, max_iterations)\n",
        "\n",
        "print(\"Best Solution Found:\", best_solution)\n",
        "print(\"Best Fitness Value:\", best_fitness)\n",
        "print(\"Adithya Pillai (1BM22CS013)\")\n"
      ]
    }
  ]
}