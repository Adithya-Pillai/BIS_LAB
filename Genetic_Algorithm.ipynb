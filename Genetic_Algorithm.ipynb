{
  "nbformat": 4,
  "nbformat_minor": 0,
  "metadata": {
    "colab": {
      "provenance": []
    },
    "kernelspec": {
      "name": "python3",
      "display_name": "Python 3"
    },
    "language_info": {
      "name": "python"
    }
  },
  "cells": [
    {
      "cell_type": "code",
      "execution_count": 3,
      "metadata": {
        "colab": {
          "base_uri": "https://localhost:8080/"
        },
        "id": "0zuEMpbv5uWW",
        "outputId": "721fa969-06a0-4959-bb75-121d384028fc"
      },
      "outputs": [
        {
          "output_type": "stream",
          "name": "stdout",
          "text": [
            "Generation 1: Best Solution = -7.8128835140553505, Best Fitness = 94.08412436677864\n",
            "Generation 2: Best Solution = -6.979017131089204, Best Fitness = 94.08412436677864\n",
            "Generation 3: Best Solution = -0.0012845448373095536, Best Fitness = 87.60913270679453\n",
            "Generation 4: Best Solution = -8.03709384599312, Best Fitness = 79.11148575985703\n",
            "Generation 5: Best Solution = -7.832029590412233, Best Fitness = 79.11148575985703\n",
            "Generation 6: Best Solution = 7.6008384958832025, Best Fitness = 83.7126738256702\n",
            "Generation 7: Best Solution = -8.04947132517851, Best Fitness = 83.7126738256702\n",
            "Generation 8: Best Solution = -6.145622952301252, Best Fitness = 79.28848166453653\n",
            "Generation 9: Best Solution = -8.859156154951236, Best Fitness = 79.28848166453653\n",
            "Generation 10: Best Solution = -9.1405160440442, Best Fitness = 92.96565894209287\n",
            "Best Solution Found: x = -9.1405160440442, f(x) = 92.96565894209287\n",
            "Adithya Pillai(1BM22CS013)\n"
          ]
        }
      ],
      "source": [
        "import numpy as np\n",
        "\n",
        "# Define the function to maximize\n",
        "def fitness_function(x):\n",
        "    return x**2\n",
        "\n",
        "# Initialize parameters\n",
        "population_size = 20\n",
        "mutation_rate = 0.1\n",
        "crossover_rate = 0.7\n",
        "num_generations = 10\n",
        "x_range = (-10, 10)\n",
        "\n",
        "# Initialize the population\n",
        "def initialize_population(size, x_range):\n",
        "    return np.random.uniform(x_range[0], x_range[1], size)\n",
        "\n",
        "# Evaluate the fitness of the population\n",
        "def evaluate_fitness(population):\n",
        "    return fitness_function(population)\n",
        "\n",
        "# Select individuals based on their fitness (roulette wheel selection)\n",
        "def select_parents(population, fitness):\n",
        "    probabilities = fitness / fitness.sum()\n",
        "    parents_indices = np.random.choice(np.arange(len(population)), size=2, p=probabilities)\n",
        "    return population[parents_indices]\n",
        "\n",
        "# Perform crossover\n",
        "def crossover(parent1, parent2):\n",
        "    if np.random.rand() < crossover_rate:\n",
        "        alpha = np.random.rand()\n",
        "        offspring1 = alpha * parent1 + (1 - alpha) * parent2\n",
        "        offspring2 = alpha * parent2 + (1 - alpha) * parent1\n",
        "        return offspring1, offspring2\n",
        "    return parent1, parent2\n",
        "\n",
        "# Apply mutation\n",
        "def mutate(offspring):\n",
        "    if np.random.rand() < mutation_rate:\n",
        "        return np.random.uniform(x_range[0], x_range[1])\n",
        "    return offspring\n",
        "\n",
        "# Main genetic algorithm function\n",
        "def genetic_algorithm():\n",
        "    # Step 1: Initialize population\n",
        "    population = initialize_population(population_size, x_range)\n",
        "\n",
        "    for generation in range(num_generations):\n",
        "        fitness = evaluate_fitness(population)\n",
        "\n",
        "        # Step 2: Create the next generation\n",
        "        new_population = []\n",
        "\n",
        "        for _ in range(population_size // 2):\n",
        "            parent1, parent2 = select_parents(population, fitness)\n",
        "            offspring1, offspring2 = crossover(parent1, parent2)\n",
        "            new_population.append(mutate(offspring1))\n",
        "            new_population.append(mutate(offspring2))\n",
        "\n",
        "        # Replace old population with new population\n",
        "        population = np.array(new_population)\n",
        "\n",
        "        # Output best solution in the current generation\n",
        "        best_fitness_index = np.argmax(fitness)\n",
        "        best_solution = population[best_fitness_index]\n",
        "        best_value = fitness[best_fitness_index]\n",
        "\n",
        "        print(f\"Generation {generation + 1}: Best Solution = {best_solution}, Best Fitness = {best_value}\")\n",
        "\n",
        "    # Final best solution after all generations\n",
        "    best_fitness_index = np.argmax(fitness)\n",
        "    best_solution = population[best_fitness_index]\n",
        "    best_value = fitness[best_fitness_index]\n",
        "\n",
        "    return best_solution, best_value\n",
        "\n",
        "# Run the Genetic Algorithm\n",
        "best_solution, best_value = genetic_algorithm()\n",
        "print(f\"Best Solution Found: x = {best_solution}, f(x) = {best_value}\")\n",
        "print(\"Adithya Pillai(1BM22CS013)\")\n"
      ]
    }
  ]
}