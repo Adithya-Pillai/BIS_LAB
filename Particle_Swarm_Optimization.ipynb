{
  "nbformat": 4,
  "nbformat_minor": 0,
  "metadata": {
    "colab": {
      "provenance": []
    },
    "kernelspec": {
      "name": "python3",
      "display_name": "Python 3"
    },
    "language_info": {
      "name": "python"
    }
  },
  "cells": [
    {
      "cell_type": "code",
      "execution_count": 1,
      "metadata": {
        "colab": {
          "base_uri": "https://localhost:8080/"
        },
        "id": "U8HR1wE7-Ev8",
        "outputId": "f891df20-0bb2-4f81-ec5a-0f5f6c38fe66"
      },
      "outputs": [
        {
          "output_type": "stream",
          "name": "stdout",
          "text": [
            "Iteration 1: Global best = -0.11421236641472543, Fitness = -0.013044464642051501\n",
            "Iteration 2: Global best = -0.06975724648662385, Fitness = -0.004866073437395595\n",
            "Iteration 3: Global best = -0.06975724648662385, Fitness = -0.004866073437395595\n",
            "Iteration 4: Global best = 0.03667353776364113, Fitness = -0.001344948372101212\n",
            "Iteration 5: Global best = -0.013493564852767037, Fitness = -0.0001820762924358299\n",
            "Iteration 6: Global best = -0.013493564852767037, Fitness = -0.0001820762924358299\n",
            "Iteration 7: Global best = -0.003814694152027176, Fitness = -1.4551891473510336e-05\n",
            "Iteration 8: Global best = -0.003814694152027176, Fitness = -1.4551891473510336e-05\n",
            "Iteration 9: Global best = -0.003814694152027176, Fitness = -1.4551891473510336e-05\n",
            "Iteration 10: Global best = 0.0019127810963721625, Fitness = -3.658731522638692e-06\n",
            "Best solution found: 0.0019127810963721625, Fitness: -3.658731522638692e-06\n",
            "Adithya Pillai (1BM22CS013)\n"
          ]
        }
      ],
      "source": [
        "import random\n",
        "\n",
        "def fitness_function(x):\n",
        "    return -x ** 2\n",
        "\n",
        "class Particle:\n",
        "    def __init__(self, min_x, max_x):\n",
        "        self.position = random.uniform(min_x, max_x)\n",
        "        self.velocity = random.uniform(-1, 1)\n",
        "        self.best_position = self.position\n",
        "        self.best_fitness = fitness_function(self.position)\n",
        "\n",
        "    def update_velocity(self, global_best_position, inertia, cognitive, social):\n",
        "        r1, r2 = random.random(), random.random()\n",
        "        cognitive_velocity = cognitive * r1 * (self.best_position - self.position)\n",
        "        social_velocity = social * r2 * (global_best_position - self.position)\n",
        "        self.velocity = inertia * self.velocity + cognitive_velocity + social_velocity\n",
        "\n",
        "    def update_position(self, min_x, max_x):\n",
        "        self.position += self.velocity\n",
        "        self.position = max(min(self.position, max_x), min_x)\n",
        "        fitness = fitness_function(self.position)\n",
        "        if fitness > self.best_fitness:\n",
        "            self.best_position = self.position\n",
        "            self.best_fitness = fitness\n",
        "\n",
        "def particle_swarm_optimization(pop_size, min_x, max_x, inertia, cognitive, social, iterations):\n",
        "    swarm = [Particle(min_x, max_x) for _ in range(pop_size)]\n",
        "    global_best_position = min(swarm, key=lambda p: p.best_fitness).best_position\n",
        "    for iteration in range(iterations):\n",
        "        for particle in swarm:\n",
        "            particle.update_velocity(global_best_position, inertia, cognitive, social)\n",
        "            particle.update_position(min_x, max_x)\n",
        "            if fitness_function(particle.position) > fitness_function(global_best_position):\n",
        "                global_best_position = particle.position\n",
        "        print(f\"Iteration {iteration + 1}: Global best = {global_best_position}, Fitness = {fitness_function(global_best_position)}\")\n",
        "    return global_best_position\n",
        "\n",
        "population_size = 30\n",
        "min_value = -10\n",
        "max_value = 10\n",
        "inertia_weight = 0.5\n",
        "cognitive_constant = 1.5\n",
        "social_constant = 1.5\n",
        "num_iterations = 10\n",
        "\n",
        "best_solution = particle_swarm_optimization(population_size, min_value, max_value, inertia_weight, cognitive_constant, social_constant, num_iterations)\n",
        "print(f\"Best solution found: {best_solution}, Fitness: {fitness_function(best_solution)}\")\n",
        "print(\"Adithya Pillai (1BM22CS013)\")\n"
      ]
    }
  ]
}